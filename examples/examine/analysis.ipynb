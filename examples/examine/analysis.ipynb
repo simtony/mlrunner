{
 "cells": [
  {
   "cell_type": "code",
   "execution_count": 1,
   "metadata": {
    "collapsed": true,
    "pycharm": {
     "name": "#%%\n"
    }
   },
   "outputs": [],
   "source": [
    "import re\n",
    "from runner.examine import Examiner, latest_log, trunc, table\n",
    "\n",
    "def get_acc(path, experiment, caches):\n",
    "    # the latest log include results we want.\n",
    "    log = latest_log(\"train\", path)\n",
    "    if log is None:\n",
    "        # ignore corner case\n",
    "        return\n",
    "    with open(log, \"r\") as fin:\n",
    "        for line in fin:\n",
    "            continue\n",
    "    matches = re.findall(\"(?<=test_acc=).+?(?=, )\", line)\n",
    "    if len(matches) != 1:\n",
    "        # ignore corner case\n",
    "        return\n",
    "    # update the metric container\n",
    "    experiment.metric[\"acc\"] = float(matches[0])"
   ]
  },
  {
   "cell_type": "code",
   "execution_count": 2,
   "outputs": [
    {
     "name": "stdout",
     "output_type": "stream",
     "text": [
      "lr\tseed\tacc\n",
      "0.01\t0\t0.9039\n",
      "0.01\t1\t0.9021\n",
      "0.01\t2\t0.9011\n",
      "0.1\t0\t0.929\n",
      "0.1\t1\t0.9242\n",
      "0.1\t2\t0.9296\n"
     ]
    }
   ],
   "source": [
    "examiner = Examiner()\n",
    "examiner.add(get_acc)\n",
    "examiner.exam(output=\"output\", regex=\".*\")\n",
    "entries, headers = examiner.table(raw=True)"
   ],
   "metadata": {
    "collapsed": false,
    "pycharm": {
     "name": "#%%\n"
    }
   }
  },
  {
   "cell_type": "code",
   "execution_count": 3,
   "outputs": [
    {
     "data": {
      "text/plain": "[[0.01, 0, 0.9039],\n [0.01, 1, 0.9021],\n [0.01, 2, 0.9011],\n [0.1, 0, 0.929],\n [0.1, 1, 0.9242],\n [0.1, 2, 0.9296]]"
     },
     "execution_count": 3,
     "metadata": {},
     "output_type": "execute_result"
    }
   ],
   "source": [
    "# entries contain the raw data for the table for further processing, such as plotting\n",
    "entries"
   ],
   "metadata": {
    "collapsed": false,
    "pycharm": {
     "name": "#%%\n"
    }
   }
  },
  {
   "cell_type": "code",
   "execution_count": 4,
   "outputs": [
    {
     "name": "stdout",
     "output_type": "stream",
     "text": [
      "lr\tmean\tstd\tnum\n",
      "0.01\t90.24\t0.12\t3\n",
      "0.1\t92.76\t0.24\t3\n"
     ]
    },
    {
     "data": {
      "text/plain": "([(0.01, 90.24, 0.12, 3), (0.1, 92.76, 0.24, 3)], ['lr', 'mean', 'std', 'num'])"
     },
     "execution_count": 4,
     "metadata": {},
     "output_type": "execute_result"
    }
   ],
   "source": [
    "# we may want to report mean & std of accuracies.\n",
    "examiner = Examiner()\n",
    "examiner.add(get_acc)\n",
    "examiner.exam(output=\"output\", regex=\".*\")\n",
    "examiner.table_agg(\"acc\", \"seed\", scale=100, raw=True)"
   ],
   "metadata": {
    "collapsed": false,
    "pycharm": {
     "name": "#%%\n"
    }
   }
  }
 ],
 "metadata": {
  "kernelspec": {
   "display_name": "Python 3",
   "language": "python",
   "name": "python3"
  },
  "language_info": {
   "codemirror_mode": {
    "name": "ipython",
    "version": 2
   },
   "file_extension": ".py",
   "mimetype": "text/x-python",
   "name": "python",
   "nbconvert_exporter": "python",
   "pygments_lexer": "ipython2",
   "version": "2.7.6"
  }
 },
 "nbformat": 4,
 "nbformat_minor": 0
}