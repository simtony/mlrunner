{
 "cells": [
  {
   "cell_type": "code",
   "execution_count": 1,
   "metadata": {
    "collapsed": true
   },
   "outputs": [],
   "source": [
    "import re\n",
    "import pandas as pd\n",
    "import numpy as np\n",
    "from runner.examine import Examiner, latest_log\n",
    "\n",
    "\n",
    "def get_acc(path, experiment, caches):\n",
    "    # the latest log include results we want.\n",
    "    log = latest_log(\"train\", path)\n",
    "    if log is None:\n",
    "        return\n",
    "    with open(log, \"r\") as fin:\n",
    "        for line in fin:\n",
    "            continue\n",
    "    matches = re.findall(\"(?<=test_acc=).+?(?=, )\", line)\n",
    "    if len(matches) != 1:\n",
    "        # ignore corner case\n",
    "        return\n",
    "    # update the metric container\n",
    "    experiment.metric[\"acc\"] = float(matches[0])"
   ]
  },
  {
   "cell_type": "code",
   "execution_count": 2,
   "outputs": [
    {
     "data": {
      "text/plain": "     lr  seed     acc\n0  0.10     2  0.9296\n1  0.01     2  0.9011\n2  0.10     1  0.9242\n3  0.10     0  0.9290\n4  0.01     0  0.9039\n5  0.01     1  0.9021",
      "text/html": "<div>\n<style scoped>\n    .dataframe tbody tr th:only-of-type {\n        vertical-align: middle;\n    }\n\n    .dataframe tbody tr th {\n        vertical-align: top;\n    }\n\n    .dataframe thead th {\n        text-align: right;\n    }\n</style>\n<table border=\"1\" class=\"dataframe\">\n  <thead>\n    <tr style=\"text-align: right;\">\n      <th></th>\n      <th>lr</th>\n      <th>seed</th>\n      <th>acc</th>\n    </tr>\n  </thead>\n  <tbody>\n    <tr>\n      <th>0</th>\n      <td>0.10</td>\n      <td>2</td>\n      <td>0.9296</td>\n    </tr>\n    <tr>\n      <th>1</th>\n      <td>0.01</td>\n      <td>2</td>\n      <td>0.9011</td>\n    </tr>\n    <tr>\n      <th>2</th>\n      <td>0.10</td>\n      <td>1</td>\n      <td>0.9242</td>\n    </tr>\n    <tr>\n      <th>3</th>\n      <td>0.10</td>\n      <td>0</td>\n      <td>0.9290</td>\n    </tr>\n    <tr>\n      <th>4</th>\n      <td>0.01</td>\n      <td>0</td>\n      <td>0.9039</td>\n    </tr>\n    <tr>\n      <th>5</th>\n      <td>0.01</td>\n      <td>1</td>\n      <td>0.9021</td>\n    </tr>\n  </tbody>\n</table>\n</div>"
     },
     "execution_count": 2,
     "metadata": {},
     "output_type": "execute_result"
    }
   ],
   "source": [
    "examiner = Examiner()\n",
    "examiner.add(get_acc)\n",
    "examiner.exam(output=\"output\", regex=\".*\")\n",
    "df = examiner.table()\n",
    "df"
   ],
   "metadata": {
    "collapsed": false
   }
  },
  {
   "cell_type": "code",
   "execution_count": 3,
   "outputs": [
    {
     "data": {
      "text/plain": "          mean       std\nlr                      \n0.01  0.902367  0.001419\n0.10  0.927600  0.002960",
      "text/html": "<div>\n<style scoped>\n    .dataframe tbody tr th:only-of-type {\n        vertical-align: middle;\n    }\n\n    .dataframe tbody tr th {\n        vertical-align: top;\n    }\n\n    .dataframe thead th {\n        text-align: right;\n    }\n</style>\n<table border=\"1\" class=\"dataframe\">\n  <thead>\n    <tr style=\"text-align: right;\">\n      <th></th>\n      <th>mean</th>\n      <th>std</th>\n    </tr>\n    <tr>\n      <th>lr</th>\n      <th></th>\n      <th></th>\n    </tr>\n  </thead>\n  <tbody>\n    <tr>\n      <th>0.01</th>\n      <td>0.902367</td>\n      <td>0.001419</td>\n    </tr>\n    <tr>\n      <th>0.10</th>\n      <td>0.927600</td>\n      <td>0.002960</td>\n    </tr>\n  </tbody>\n</table>\n</div>"
     },
     "execution_count": 3,
     "metadata": {},
     "output_type": "execute_result"
    }
   ],
   "source": [
    "# we may want to report mean & std of accuracies.\n",
    "df.groupby(\"lr\")[\"acc\"].agg([np.mean, np.std])"
   ],
   "metadata": {
    "collapsed": false
   }
  }
 ],
 "metadata": {
  "kernelspec": {
   "display_name": "Python 3",
   "language": "python",
   "name": "python3"
  },
  "language_info": {
   "codemirror_mode": {
    "name": "ipython",
    "version": 2
   },
   "file_extension": ".py",
   "mimetype": "text/x-python",
   "name": "python",
   "nbconvert_exporter": "python",
   "pygments_lexer": "ipython2",
   "version": "2.7.6"
  }
 },
 "nbformat": 4,
 "nbformat_minor": 0
}
